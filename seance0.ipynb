{
 "metadata": {
  "name": "",
  "signature": "sha256:d0c4de060d88c66c254f8e973dd3ec8d04f5884d31b03e7210371da93064ce4e"
 },
 "nbformat": 3,
 "nbformat_minor": 0,
 "worksheets": [
  {
   "cells": [
    {
     "cell_type": "heading",
     "level": 1,
     "metadata": {},
     "source": [
      "Initiation \u00e0 Python - S\u00e9ance 0 : d\u00e9couverte des notebooks"
     ]
    },
    {
     "cell_type": "markdown",
     "metadata": {},
     "source": [
      "Cette page est un notebook IPython. Un notebook IPython consiste en plusieurs cellules (ce sont les cadres \u00e0 fond gris ci-dessous). Ces cellules pouvent contenir du texte, du code Python et des graphiques.\n",
      "Le code Python est directement ex\u00e9cutable et le r\u00e9sultat de l'ex\u00e9cution affich\u00e9 dans la page.\n",
      "Utiliser un notebook pour apprendre un langage est pratique, car il permet sur la m\u00eame page d'associer des cellules d'explication et des cellules o\u00f9 \u00e9crire ou modifier du code Python.\n",
      "\n",
      "Un premier exemple vous est donn\u00e9 dans la cellule suivante : elle contient deux instructions simples. Pour ex\u00e9cuter ce code Python, placez le curseur \u00e0 l'int\u00e9rieur de la cellule (un cadre vert signale qu'elle devient active) et frapper <maj-enter> (ou cliquer sur le bouton [Run Cell] (le triangle noir dans la barre de menu), ou encore utilisez le menu Cell > Run. Le r\u00e9sultat de l'ex\u00e9cution doit s'afficher en dessous de la cellule.\n",
      "\n",
      "Essayez maintenant le menu Cell > Run and Select Below qui a pour effet de d\u00e9placer le curseur.\n"
     ]
    },
    {
     "cell_type": "code",
     "collapsed": false,
     "input": [
      "a = 5\n",
      "print('La valeur de a au cube est :', a*a*a)"
     ],
     "language": "python",
     "metadata": {},
     "outputs": [
      {
       "output_type": "stream",
       "stream": "stdout",
       "text": [
        "('La valeur de a au cube est :', 125)\n"
       ]
      }
     ],
     "prompt_number": 4
    },
    {
     "cell_type": "markdown",
     "metadata": {},
     "source": [
      "Vous pouvez modifier le code d'une cellule puis le r\u00e9-ex\u00e9cuter. Par exemple, dans la cellule suivante, modifiez la valeur de la variable a, puis frappez \u00e0 nouveau <maj-enter> ou menu Cell > Run.\n",
      "\n",
      "Vous en savez assez pour aborder les le\u00e7ons suivantes de ce module d'initiation \u00e0 Python"
     ]
    }
   ],
   "metadata": {}
  }
 ]
}