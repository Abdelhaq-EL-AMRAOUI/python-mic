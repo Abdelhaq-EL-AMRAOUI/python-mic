{
 "cells": [
  {
   "cell_type": "markdown",
   "metadata": {},
   "source": [
    "# Initiation à Python - Séance 0 : découverte des notebooks"
   ]
  },
  {
   "cell_type": "markdown",
   "metadata": {},
   "source": [
    "Cette page est un notebook IPython. Un notebook IPython consiste en plusieurs cellules (ce sont les cadres à fond gris ci-dessous). Ces cellules pouvent contenir du texte, du code Python et des graphiques.\n",
    "Le code Python est directement exécutable et le résultat de l'exécution affiché dans la page.\n",
    "Utiliser un notebook pour apprendre un langage est pratique, car il permet sur la même page d'associer des cellules d'explication et des cellules où écrire ou modifier du code Python.\n",
    "\n",
    "Un premier exemple vous est donné dans la cellule suivante : elle contient deux instructions simples. Pour exécuter ce code Python, placez le curseur à l'intérieur de la cellule (un cadre vert signale qu'elle devient active) et frapper <maj-enter> (ou cliquer sur le bouton [Run Cell] (le triangle noir dans la barre de menu), ou encore utilisez le menu Cell > Run. Le résultat de l'exécution doit s'afficher en dessous de la cellule.\n",
    "\n",
    "Essayez maintenant le menu Cell > Run and Select Below qui a pour effet de déplacer le curseur.\n"
   ]
  },
  {
   "cell_type": "code",
   "execution_count": 4,
   "metadata": {
    "collapsed": false
   },
   "outputs": [
    {
     "name": "stdout",
     "output_type": "stream",
     "text": [
      "('La valeur de a au cube est :', 125)\n"
     ]
    }
   ],
   "source": [
    "a = 5\n",
    "print('La valeur de a au cube est :', a*a*a)"
   ]
  },
  {
   "cell_type": "markdown",
   "metadata": {},
   "source": [
    "Vous pouvez modifier le code d'une cellule puis le ré-exécuter. Par exemple, dans la cellule suivante, modifiez la valeur de la variable a, puis frappez à nouveau <maj-enter> ou menu Cell > Run.\n",
    "\n",
    "Vous en savez assez pour aborder les leçons suivantes de ce module d'initiation à Python"
   ]
  }
 ],
 "metadata": {
  "kernelspec": {
   "display_name": "Python 3",
   "language": "python",
   "name": "python3"
  },
  "language_info": {
   "codemirror_mode": {
    "name": "ipython",
    "version": 3
   },
   "file_extension": ".py",
   "mimetype": "text/x-python",
   "name": "python",
   "nbconvert_exporter": "python",
   "pygments_lexer": "ipython3",
   "version": "3.6.0"
  }
 },
 "nbformat": 4,
 "nbformat_minor": 0
}
