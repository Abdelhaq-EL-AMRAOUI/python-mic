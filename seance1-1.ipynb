{
 "metadata": {
  "name": "",
  "signature": "sha256:8633722a08c81ce637b2f9bf0920e3bd05d0b4f79b39fa712720cfbace45c3d3"
 },
 "nbformat": 3,
 "nbformat_minor": 0,
 "worksheets": [
  {
   "cells": [
    {
     "cell_type": "heading",
     "level": 1,
     "metadata": {},
     "source": [
      "Initiation \u00e0 Python - S\u00e9ance 1-1 : variable, objet et typage dynamique"
     ]
    },
    {
     "cell_type": "markdown",
     "metadata": {},
     "source": [
      "Dans cette s\u00e9quence, nous allons d\u00e9couvrir les notions de variable et d\u2019objet et celle de typage dynamique.\n",
      "\n",
      "<h2>Objets</h2>\n",
      "Python est un langage de programmation orient\u00e9 objet. Revenons d\u2019abord sur la notion d\u2019objet, qui si elle est bien comprise facilitera votre apprentissage de Python.\n",
      "Dans la s\u00e9ance pr\u00e9c\u00e9dente, nous avons dit qu\u2019en informatique, un objet repr\u00e9sente un concept. Reprenons l\u2019exemple d\u2019un avion. Un objet avion poss\u00e8de\n",
      "<ul>\n",
      "<li>des caract\u00e9ristiques qu\u2019on appelle <b>attributs</b>, tels que par exemple sa vitesse et le nombre de si\u00e8ges passagers</li>\n",
      "<li>d\u2019autres caract\u00e9ristiques que l\u2019on appelle <b>m\u00e9thodes</b> et que l\u2019on peut comprendre comme des fonctions permettant de modifier ses attributs (une fonction accelere(), par exemple)</li>\n",
      "</ul>\n",
      "Pour l\u2019ordinateur, cet objet repr\u00e9sente un programme qui s\u2019ex\u00e9cute. Ce programme contient toutes les informations li\u00e9es \u00e0 cet objet, attributs et m\u00e9thodes.\n",
      "\n",
      "De base, Python est capable de g\u00e9rer plusieurs types d\u2019objets simples que nous allons d\u00e9couvrir. Prenons l\u2019exemple d\u2019une cha\u00eene de caract\u00e8res, la cha\u00eene \u201cbonjour\u201d que l\u2019on d\u00e9limite en Python par des guillemets. \n",
      "Taper cette cha\u00eene dans la cellule suivante et ex\u00e9cutez la cellule."
     ]
    },
    {
     "cell_type": "code",
     "collapsed": false,
     "input": [
      "\"bonjour\""
     ],
     "language": "python",
     "metadata": {},
     "outputs": [
      {
       "metadata": {},
       "output_type": "pyout",
       "prompt_number": 2,
       "text": [
        "'bonjour'"
       ]
      }
     ],
     "prompt_number": 2
    },
    {
     "cell_type": "markdown",
     "metadata": {},
     "source": [
      "Au moment de l'ex\u00e9cution, Python reconna\u00eet l\u2019instruction comme une cha\u00eene de caract\u00e8res - c\u2019est ce qu\u2019on appelle le typage dynamique - et cr\u00e9e dans la m\u00e9moire de l\u2019ordinateur un objet de type cha\u00eene de caract\u00e8res. Cet objet contient d\u2019embl\u00e9e plusieurs informations : d\u2019abord un attribut qui contient l\u2019information \u201cbonjour\u201d, pour simplifier appelons cet attribut valeur. La valeur de ce nouvel objet est \u201cbonjour\u201d. Mais \u00e9galement, puisque cet objet est de type cha\u00eene de caract\u00e8res, Python lui attribue toutes les m\u00e9thodes associ\u00e9es aux objets de type cha\u00eene de caract\u00e8res - c\u2019est-\u00e0-dire un jeu de fonctions qui va pouvoir s\u2019appliquer \u00e0 cet objet.\n",
      "Parmi ces m\u00e9thodes, on trouve par exemple la m\u00e9thode upper() qui si elle est appliqu\u00e9e \u00e0 la cha\u00eene \u201cbonjour\u201d va r\u00e9\u00e9crire sa valeur en majuscules. Comment utilise-t-on ces m\u00e9thodes ? Tout simplement en les accolant \u00e0 un objet et en les faisant pr\u00e9c\u00e9der d\u2019un point. Placez-vous dans la cellule suivante et ex\u00e9cutez-l\u00e0. Retenez que le point est une mani\u00e8re g\u00e9n\u00e9rique d\u2019appeler une m\u00e9thode sur un objet.\n"
     ]
    },
    {
     "cell_type": "code",
     "collapsed": false,
     "input": [
      "\"bonjour\".upper()"
     ],
     "language": "python",
     "metadata": {},
     "outputs": [
      {
       "metadata": {},
       "output_type": "pyout",
       "prompt_number": 3,
       "text": [
        "'BONJOUR'"
       ]
      }
     ],
     "prompt_number": 3
    },
    {
     "cell_type": "markdown",
     "metadata": {},
     "source": [
      "<h2>Variables</h2>\n",
      "Dans la m\u00e9moire de l\u2019ordinateur, un objet est r\u00e9f\u00e9renc\u00e9 par une adresse m\u00e9moire. Une adresse m\u00e9moire est un nombre entier naturel cod\u00e9 sur un certain nombre de bits qui d\u00e9signe une zone particuli\u00e8re de la m\u00e9moire.\n",
      "Heureusement, lorsque l\u2019on programme, on ne manipule pas les objets \u00e0 travers ces adresses, mais gr\u00e2ce \u00e0 des variables. Pour affecter un objet \u00e0 une variable, on utilise le signe \u00e9gal. Dans l'exemple suivant, au moment de l'ex\u00e9cution, Python effectue trois choses :  il cr\u00e9e une variable a dans l\u2019espace des variables ; il cr\u00e9e un objet de type cha\u00eene de caract\u00e8res ; il r\u00e9f\u00e9rence l\u2019objet dont la valeur est \u2018bonjour\u2019 gr\u00e2ce \u00e0 la variable a. "
     ]
    },
    {
     "cell_type": "code",
     "collapsed": false,
     "input": [
      "a = \"bonjour\""
     ],
     "language": "python",
     "metadata": {},
     "outputs": [],
     "prompt_number": 4
    },
    {
     "cell_type": "markdown",
     "metadata": {},
     "source": [
      "\u00c0 chaque fois que l\u2019on utilisera la variable a dans une instruction Python, c\u2019est de l\u2019objet r\u00e9f\u00e9renc\u00e9 par a qu\u2019il s\u2019agira.\n",
      "\n",
      "La variable r\u00e9f\u00e9rence un objet de type cha\u00eene de caract\u00e8res. On peut appliquer \u00e0 cet objet la m\u00e9thode upper() par le biais de la variable a qui r\u00e9f\u00e9rence cet objet.\n"
     ]
    },
    {
     "cell_type": "code",
     "collapsed": false,
     "input": [
      "a.upper()"
     ],
     "language": "python",
     "metadata": {},
     "outputs": [
      {
       "metadata": {},
       "output_type": "pyout",
       "prompt_number": 5,
       "text": [
        "'BONJOUR'"
       ]
      }
     ],
     "prompt_number": 5
    },
    {
     "cell_type": "markdown",
     "metadata": {},
     "source": [
      "Les variables n\u2019ont pas de type ; elles ne contiennent pas d\u2019objet, mais r\u00e9f\u00e9rencent des objets qui eux ont un type. \n",
      "\n",
      "Si l\u2019on \u00e9crit maintenant a = 1, Python effectue plusieurs choses : il cr\u00e9e en m\u00e9moire un objet de type entier ; il supprime la r\u00e9f\u00e9rence entre a et l\u2019objet dont la valeur est \u2018bonjour\u2019 et cr\u00e9e une nouvelle r\u00e9f\u00e9rence entre a et l\u2019objet entier 1. La m\u00e9moire n\u00e9cessaire pour stocker \u2018bonjour\u2019 est r\u00e9cup\u00e9r\u00e9e.\n",
      "\n",
      "L\u2019instruction b=a, cr\u00e9e une autre variable b, mais ne recr\u00e9e par l\u2019objet 1. b et a r\u00e9f\u00e9rencent le m\u00eame objet 1.\n",
      " \n",
      "Un petit mot sur la fonction print(). La fonction print() d\u2019une variable affiche \u00e0 l\u2019\u00e9cran la valeur d\u2019un objet r\u00e9f\u00e9renc\u00e9 par cette variable. \n"
     ]
    },
    {
     "cell_type": "code",
     "collapsed": false,
     "input": [
      "a = 1\n",
      "b = a\n",
      "print b"
     ],
     "language": "python",
     "metadata": {},
     "outputs": [
      {
       "output_type": "stream",
       "stream": "stdout",
       "text": [
        "1\n"
       ]
      }
     ],
     "prompt_number": 6
    },
    {
     "cell_type": "markdown",
     "metadata": {},
     "source": [
      "<h2>Noms de variables</h2>\n",
      "Quelques r\u00e8gles concernant les noms que l\u2019on peut utiliser pour les variables. Un nom de variable peut \u00eatre une suite quelconque de caract\u00e8res alphanum\u00e9riques, c\u2019est-\u00e0-dire les lettres de l\u2019alphabet en minuscules, en majuscules et les chiffres Romains. Un nom de variable peut contenir aussi le tiret bas. Un nom de variable doit commencer par une lettre ou par le tiret bas.\n",
      "Attention : certains noms sont r\u00e9serv\u00e9s : ils correspondent \u00e0 des mots-cl\u00e9s utilis\u00e9s par Python. En voici quelques-uns : and, as, assert, print, return.\n",
      "Attention \u00e0 ne pas commettre d'erreur !\n"
     ]
    },
    {
     "cell_type": "code",
     "collapsed": false,
     "input": [
      "and = 4"
     ],
     "language": "python",
     "metadata": {},
     "outputs": [
      {
       "ename": "SyntaxError",
       "evalue": "invalid syntax (<ipython-input-8-4ef896be0728>, line 1)",
       "output_type": "pyerr",
       "traceback": [
        "\u001b[0;36m  File \u001b[0;32m\"<ipython-input-8-4ef896be0728>\"\u001b[0;36m, line \u001b[0;32m1\u001b[0m\n\u001b[0;31m    and = 4\u001b[0m\n\u001b[0m      ^\u001b[0m\n\u001b[0;31mSyntaxError\u001b[0m\u001b[0;31m:\u001b[0m invalid syntax\n"
       ]
      }
     ],
     "prompt_number": 8
    },
    {
     "cell_type": "markdown",
     "metadata": {},
     "source": [
      "Les noms de variable sont sensibles \u00e0 la casse. Attention \u00e0 ne pas commettre l'erreur ci-dessous !"
     ]
    },
    {
     "cell_type": "code",
     "collapsed": false,
     "input": [
      "mavariable = 3\n",
      "print maVariable"
     ],
     "language": "python",
     "metadata": {},
     "outputs": [
      {
       "ename": "NameError",
       "evalue": "name 'maVariable' is not defined",
       "output_type": "pyerr",
       "traceback": [
        "\u001b[0;31m---------------------------------------------------------------------------\u001b[0m\n\u001b[0;31mNameError\u001b[0m                                 Traceback (most recent call last)",
        "\u001b[0;32m<ipython-input-7-e115cce1de50>\u001b[0m in \u001b[0;36m<module>\u001b[0;34m()\u001b[0m\n\u001b[1;32m      1\u001b[0m \u001b[0mmavariable\u001b[0m \u001b[0;34m=\u001b[0m \u001b[0;36m3\u001b[0m\u001b[0;34m\u001b[0m\u001b[0m\n\u001b[0;32m----> 2\u001b[0;31m \u001b[0;32mprint\u001b[0m \u001b[0mmaVariable\u001b[0m\u001b[0;34m\u001b[0m\u001b[0m\n\u001b[0m",
        "\u001b[0;31mNameError\u001b[0m: name 'maVariable' is not defined"
       ]
      }
     ],
     "prompt_number": 7
    },
    {
     "cell_type": "markdown",
     "metadata": {},
     "source": [
      "<h2>Exercices</h2>\n",
      "?????"
     ]
    },
    {
     "cell_type": "markdown",
     "metadata": {},
     "source": [
      "dans cette page, expliquer la fen\u00eatre out et quand elle n'est pas ; dire aussi Si IPython Notebook semble bloqu\u00e9, c'est surement qu'il tourne ind\u00e9finiment en raison par exemple d'une boucle mal contr\u00f4l\u00e9e (consommant 100% de CPU d'1 core de votre machine). Vous deviez voir le message \"Kernel busy\" au haut de l'\u00e9cran. Pour l'interrompre, cliquez sur le bouton [Interrupt] (ou menu Kernel>Interrupt). Si \u00e7a ne fonctionne vraiment pas, il faudra se r\u00e9soudre \u00e0 tuer le serveur web avec <ctrl-C>"
     ]
    },
    {
     "cell_type": "code",
     "collapsed": false,
     "input": [],
     "language": "python",
     "metadata": {},
     "outputs": []
    }
   ],
   "metadata": {}
  }
 ]
}